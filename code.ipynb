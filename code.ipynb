{
  "nbformat": 4,
  "nbformat_minor": 0,
  "metadata": {
    "colab": {
      "name": "Untitled7.ipynb",
      "provenance": []
    },
    "kernelspec": {
      "name": "python3",
      "display_name": "Python 3"
    },
    "accelerator": "TPU"
  },
  "cells": [
    {
      "cell_type": "code",
      "metadata": {
        "id": "M-UPHqiiZfqt",
        "colab_type": "code",
        "colab": {
          "base_uri": "https://localhost:8080/",
          "height": 390
        },
        "outputId": "a7d13fb1-b203-4c16-ef90-80185f18105b"
      },
      "source": [
        "!pip install tensorflow"
      ],
      "execution_count": 1,
      "outputs": [
        {
          "output_type": "stream",
          "text": [
            "Requirement already satisfied: tensorflow in /usr/local/lib/python3.6/dist-packages (1.15.0)\n",
            "Requirement already satisfied: opt-einsum>=2.3.2 in /usr/local/lib/python3.6/dist-packages (from tensorflow) (3.1.0)\n",
            "Requirement already satisfied: google-pasta>=0.1.6 in /usr/local/lib/python3.6/dist-packages (from tensorflow) (0.1.8)\n",
            "Requirement already satisfied: astor>=0.6.0 in /usr/local/lib/python3.6/dist-packages (from tensorflow) (0.8.1)\n",
            "Requirement already satisfied: keras-preprocessing>=1.0.5 in /usr/local/lib/python3.6/dist-packages (from tensorflow) (1.1.0)\n",
            "Requirement already satisfied: numpy<2.0,>=1.16.0 in /usr/local/lib/python3.6/dist-packages (from tensorflow) (1.17.5)\n",
            "Requirement already satisfied: six>=1.10.0 in /usr/local/lib/python3.6/dist-packages (from tensorflow) (1.12.0)\n",
            "Requirement already satisfied: wheel>=0.26 in /usr/local/lib/python3.6/dist-packages (from tensorflow) (0.34.2)\n",
            "Requirement already satisfied: termcolor>=1.1.0 in /usr/local/lib/python3.6/dist-packages (from tensorflow) (1.1.0)\n",
            "Requirement already satisfied: keras-applications>=1.0.8 in /usr/local/lib/python3.6/dist-packages (from tensorflow) (1.0.8)\n",
            "Requirement already satisfied: absl-py>=0.7.0 in /usr/local/lib/python3.6/dist-packages (from tensorflow) (0.9.0)\n",
            "Requirement already satisfied: tensorflow-estimator==1.15.1 in /usr/local/lib/python3.6/dist-packages (from tensorflow) (1.15.1)\n",
            "Requirement already satisfied: wrapt>=1.11.1 in /usr/local/lib/python3.6/dist-packages (from tensorflow) (1.11.2)\n",
            "Requirement already satisfied: protobuf>=3.6.1 in /usr/local/lib/python3.6/dist-packages (from tensorflow) (3.10.0)\n",
            "Requirement already satisfied: gast==0.2.2 in /usr/local/lib/python3.6/dist-packages (from tensorflow) (0.2.2)\n",
            "Requirement already satisfied: tensorboard<1.16.0,>=1.15.0 in /usr/local/lib/python3.6/dist-packages (from tensorflow) (1.15.0)\n",
            "Requirement already satisfied: grpcio>=1.8.6 in /usr/local/lib/python3.6/dist-packages (from tensorflow) (1.27.1)\n",
            "Requirement already satisfied: h5py in /usr/local/lib/python3.6/dist-packages (from keras-applications>=1.0.8->tensorflow) (2.8.0)\n",
            "Requirement already satisfied: setuptools in /usr/local/lib/python3.6/dist-packages (from protobuf>=3.6.1->tensorflow) (45.1.0)\n",
            "Requirement already satisfied: markdown>=2.6.8 in /usr/local/lib/python3.6/dist-packages (from tensorboard<1.16.0,>=1.15.0->tensorflow) (3.2.1)\n",
            "Requirement already satisfied: werkzeug>=0.11.15 in /usr/local/lib/python3.6/dist-packages (from tensorboard<1.16.0,>=1.15.0->tensorflow) (1.0.0)\n"
          ],
          "name": "stdout"
        }
      ]
    },
    {
      "cell_type": "code",
      "metadata": {
        "id": "AlxjK2kWZoUo",
        "colab_type": "code",
        "colab": {}
      },
      "source": [
        "import tensorflow as tf\n",
        "from tensorflow import keras\n",
        "import numpy as np\n",
        "import pandas as pd\n",
        "import matplotlib.pyplot as plt\n",
        "%matplotlib inline"
      ],
      "execution_count": 0,
      "outputs": []
    },
    {
      "cell_type": "code",
      "metadata": {
        "id": "vfeB_E-VZzIb",
        "colab_type": "code",
        "colab": {}
      },
      "source": [
        "data=keras.datasets.fashion_mnist"
      ],
      "execution_count": 0,
      "outputs": []
    },
    {
      "cell_type": "code",
      "metadata": {
        "id": "beyvDoysZ7gu",
        "colab_type": "code",
        "colab": {
          "base_uri": "https://localhost:8080/",
          "height": 171
        },
        "outputId": "8b6da576-81bd-43dc-f7de-5a9078eff13e"
      },
      "source": [
        "(train_images,train_labels),(test_images,test_labels)=data.load_data()"
      ],
      "execution_count": 5,
      "outputs": [
        {
          "output_type": "stream",
          "text": [
            "Downloading data from https://storage.googleapis.com/tensorflow/tf-keras-datasets/train-labels-idx1-ubyte.gz\n",
            "32768/29515 [=================================] - 0s 0us/step\n",
            "Downloading data from https://storage.googleapis.com/tensorflow/tf-keras-datasets/train-images-idx3-ubyte.gz\n",
            "26427392/26421880 [==============================] - 0s 0us/step\n",
            "Downloading data from https://storage.googleapis.com/tensorflow/tf-keras-datasets/t10k-labels-idx1-ubyte.gz\n",
            "8192/5148 [===============================================] - 0s 0us/step\n",
            "Downloading data from https://storage.googleapis.com/tensorflow/tf-keras-datasets/t10k-images-idx3-ubyte.gz\n",
            "4423680/4422102 [==============================] - 0s 0us/step\n"
          ],
          "name": "stdout"
        }
      ]
    },
    {
      "cell_type": "code",
      "metadata": {
        "id": "QzvG3FmiaBa4",
        "colab_type": "code",
        "colab": {
          "base_uri": "https://localhost:8080/",
          "height": 34
        },
        "outputId": "ee0bdf0d-60a8-46f2-dfd4-0090d64c7853"
      },
      "source": [
        "print(train_labels[0])"
      ],
      "execution_count": 6,
      "outputs": [
        {
          "output_type": "stream",
          "text": [
            "9\n"
          ],
          "name": "stdout"
        }
      ]
    },
    {
      "cell_type": "code",
      "metadata": {
        "id": "ktfY7dpMaFNs",
        "colab_type": "code",
        "colab": {}
      },
      "source": [
        "class_names=['T-shirt/Top','Trousers','Pullover','Dress','Coat',\n",
        "             'Sandal','Shirt','Sneakers','Bag','Ankle Boot']"
      ],
      "execution_count": 0,
      "outputs": []
    },
    {
      "cell_type": "code",
      "metadata": {
        "id": "2Su9kwGKawZA",
        "colab_type": "code",
        "colab": {}
      },
      "source": [
        "train_images=train_images/255.0\n",
        "test_images=test_images/255.0"
      ],
      "execution_count": 0,
      "outputs": []
    },
    {
      "cell_type": "code",
      "metadata": {
        "id": "SIh_P3teaZzT",
        "colab_type": "code",
        "colab": {
          "base_uri": "https://localhost:8080/",
          "height": 265
        },
        "outputId": "c0b8d043-4e00-4879-a881-00ec1552d78f"
      },
      "source": [
        "plt.imshow(train_images[7],cmap=plt.cm.binary)\n",
        "plt.show()"
      ],
      "execution_count": 13,
      "outputs": [
        {
          "output_type": "display_data",
          "data": {
            "image/png": "[encoded data removed]",
            "text/plain": [
              "<Figure size 432x288 with 1 Axes>"
            ]
          },
          "metadata": {
            "tags": []
          }
        }
      ]
    },
    {
      "cell_type": "code",
      "metadata": {
        "id": "_wmH46zzah5h",
        "colab_type": "code",
        "colab": {
          "base_uri": "https://localhost:8080/",
          "height": 1000
        },
        "outputId": "23894d6b-492c-4389-c8d4-6a278ebb7a8a"
      },
      "source": [
        "#Data is usually stored in pixels of resolution 28*28\n",
        "print(train_images[7])"
      ],
      "execution_count": 14,
      "outputs": [
        {
          "output_type": "stream",
          "text": [
            "[[0.         0.         0.         0.         0.         0.00392157\n",
            "  0.00392157 0.         0.         0.         0.         0.24705882\n",
            "  0.10980392 0.         0.         0.         0.12941176 0.33333333\n",
            "  0.         0.         0.         0.         0.         0.\n",
            "  0.         0.         0.         0.        ]\n",
            " [0.         0.         0.         0.         0.         0.00784314\n",
            "  0.         0.         0.10980392 0.49411765 0.94509804 1.\n",
            "  1.         1.         1.         1.         1.         0.98823529\n",
            "  0.97254902 0.43529412 0.         0.         0.         0.00784314\n",
            "  0.         0.         0.         0.        ]\n",
            " [0.         0.         0.         0.         0.00784314 0.\n",
            "  0.         0.80784314 0.95686275 0.98431373 0.94509804 0.90196078\n",
            "  0.93333333 0.86666667 0.80392157 0.90196078 0.94117647 0.90196078\n",
            "  0.9372549  0.98431373 0.91372549 0.64705882 0.         0.\n",
            "  0.00784314 0.         0.         0.        ]\n",
            " [0.         0.         0.         0.00392157 0.         0.\n",
            "  0.78039216 0.98431373 0.89411765 0.91764706 0.91372549 0.9254902\n",
            "  0.92156863 0.96078431 0.96862745 0.92941176 0.91764706 0.9372549\n",
            "  0.90196078 0.90196078 0.92156863 1.         0.69019608 0.\n",
            "  0.         0.00392157 0.         0.        ]\n",
            " [0.         0.         0.         0.         0.         0.31764706\n",
            "  0.99607843 0.88627451 0.89411765 0.9372549  0.92941176 0.9254902\n",
            "  0.91764706 0.90980392 0.91372549 0.92156863 0.92156863 0.9254902\n",
            "  0.9372549  0.92941176 0.91372549 0.88235294 0.96470588 0.28627451\n",
            "  0.         0.         0.         0.        ]\n",
            " [0.         0.         0.01176471 0.         0.         1.\n",
            "  0.92156863 0.9372549  0.8745098  0.91764706 0.93333333 0.9254902\n",
            "  0.92941176 0.9254902  0.92156863 0.92156863 0.92156863 0.92156863\n",
            "  0.9254902  0.92156863 0.91764706 0.90196078 0.90588235 1.\n",
            "  0.09411765 0.         0.01568627 0.        ]\n",
            " [0.         0.         0.         0.         0.69411765 0.9372549\n",
            "  0.8745098  0.99607843 0.8745098  0.90980392 0.91764706 0.91764706\n",
            "  0.9254902  0.9254902  0.92156863 0.92156863 0.92156863 0.92156863\n",
            "  0.92156863 0.91764706 0.90588235 0.91372549 0.87058824 0.96470588\n",
            "  0.34509804 0.         0.00392157 0.        ]\n",
            " [0.         0.         0.         0.         0.91764706 0.9372549\n",
            "  0.89803922 1.         0.8627451  0.90980392 0.91372549 0.90980392\n",
            "  0.91764706 0.92156863 0.92156863 0.92156863 0.92156863 0.92156863\n",
            "  0.91764706 0.91372549 0.90980392 0.90196078 0.89411765 0.99607843\n",
            "  0.54901961 0.         0.         0.        ]\n",
            " [0.         0.         0.         0.         0.88235294 0.94117647\n",
            "  0.88627451 1.         0.86666667 0.89019608 0.90980392 0.89411765\n",
            "  0.90588235 0.90196078 0.89411765 0.89803922 0.90588235 0.90196078\n",
            "  0.89411765 0.89411765 0.90980392 0.8745098  0.89803922 0.95686275\n",
            "  0.90588235 0.         0.         0.        ]\n",
            " [0.         0.         0.         0.18431373 0.96078431 0.90588235\n",
            "  0.91764706 0.97647059 0.89803922 0.86666667 0.89803922 0.88235294\n",
            "  0.89803922 0.89019608 0.88627451 0.89019608 0.89411765 0.89019608\n",
            "  0.89411765 0.89803922 0.89411765 0.87843137 0.96470588 0.94117647\n",
            "  0.89019608 0.         0.         0.        ]\n",
            " [0.         0.         0.         0.2        0.97254902 0.90196078\n",
            "  0.96078431 0.96470588 0.90196078 0.88627451 0.90196078 0.89019608\n",
            "  0.90196078 0.89803922 0.89411765 0.89803922 0.90196078 0.89411765\n",
            "  0.89411765 0.90588235 0.88235294 0.89019608 0.94901961 0.92941176\n",
            "  1.         0.         0.         0.        ]\n",
            " [0.         0.         0.         0.39607843 0.99215686 0.89803922\n",
            "  0.96862745 0.94509804 0.86666667 0.91372549 0.89411765 0.89019608\n",
            "  0.89803922 0.89411765 0.89019608 0.89411765 0.90196078 0.89019608\n",
            "  0.90196078 0.91764706 0.88235294 0.89803922 0.98431373 0.89803922\n",
            "  0.95294118 0.21568627 0.         0.        ]\n",
            " [0.         0.         0.         0.4        1.         0.89019608\n",
            "  0.94901961 0.94509804 0.86666667 0.91764706 0.8745098  0.90196078\n",
            "  0.89411765 0.90588235 0.89803922 0.90588235 0.90588235 0.89019608\n",
            "  0.89803922 0.94509804 0.85882353 0.9254902  0.99607843 0.88235294\n",
            "  0.98039216 0.65490196 0.         0.        ]\n",
            " [0.         0.         0.         0.35294118 1.         0.89803922\n",
            "  0.9254902  0.90588235 0.87058824 0.9254902  0.8745098  0.90588235\n",
            "  0.89803922 0.90588235 0.89803922 0.90588235 0.90588235 0.89411765\n",
            "  0.87843137 0.96078431 0.85490196 0.95294118 0.9372549  0.89019608\n",
            "  0.95686275 0.68627451 0.         0.        ]\n",
            " [0.         0.         0.         0.83137255 0.98039216 0.88235294\n",
            "  0.9254902  0.97647059 0.89803922 0.92941176 0.8745098  0.90588235\n",
            "  0.89803922 0.90588235 0.89803922 0.90588235 0.90588235 0.90196078\n",
            "  0.86666667 0.95294118 0.88235294 0.97254902 0.90196078 0.9254902\n",
            "  0.91764706 1.         0.00392157 0.        ]\n",
            " [0.         0.         0.         0.96078431 0.95294118 0.90980392\n",
            "  0.95294118 0.85490196 0.89411765 0.93333333 0.87058824 0.90588235\n",
            "  0.89803922 0.90588235 0.89803922 0.90588235 0.90588235 0.90196078\n",
            "  0.87058824 0.92941176 0.92941176 0.98823529 0.89803922 0.9372549\n",
            "  0.94117647 0.8745098  0.         0.        ]\n",
            " [0.         0.         0.10588235 1.         0.92156863 0.94901961\n",
            "  0.92941176 0.84705882 0.90196078 0.9254902  0.87843137 0.89803922\n",
            "  0.89019608 0.91372549 0.91372549 0.91372549 0.90196078 0.89411765\n",
            "  0.87843137 0.90196078 0.96078431 0.96862745 0.86666667 0.95294118\n",
            "  0.9372549  0.98823529 0.         0.        ]\n",
            " [0.         0.         0.34509804 1.         0.90980392 0.97254902\n",
            "  0.9254902  0.81568627 0.91764706 0.90588235 0.8745098  0.89019608\n",
            "  0.88627451 0.91372549 0.90980392 0.90980392 0.90196078 0.89411765\n",
            "  0.87843137 0.87843137 0.92156863 0.91372549 0.91764706 0.96862745\n",
            "  0.92156863 1.         0.         0.        ]\n",
            " [0.         0.         0.3254902  1.         0.88235294 0.98039216\n",
            "  0.92941176 0.87843137 0.9254902  0.89803922 0.88235294 0.88235294\n",
            "  0.89019608 0.92156863 0.89803922 0.90588235 0.90196078 0.90196078\n",
            "  0.89019608 0.86666667 0.89019608 0.86666667 0.9372549  0.98039216\n",
            "  0.90588235 1.         0.         0.        ]\n",
            " [0.         0.         0.07843137 1.         0.87843137 0.97254902\n",
            "  0.91764706 0.88627451 0.90980392 0.87058824 0.88235294 0.87843137\n",
            "  0.90588235 0.93333333 0.88627451 0.90196078 0.89411765 0.90196078\n",
            "  0.90196078 0.86666667 0.89803922 0.88235294 0.95686275 0.96470588\n",
            "  0.90196078 1.         0.         0.        ]\n",
            " [0.         0.         0.37254902 1.         0.85490196 0.94901961\n",
            "  1.         0.90980392 0.88627451 0.87843137 0.89803922 0.89411765\n",
            "  0.89411765 0.90980392 0.89411765 0.89803922 0.90588235 0.91372549\n",
            "  0.90980392 0.88627451 0.86666667 0.87843137 0.96862745 0.95686275\n",
            "  0.89411765 1.         0.         0.        ]\n",
            " [0.         0.         0.65490196 1.         0.83529412 0.92156863\n",
            "  1.         0.31764706 0.96078431 0.98431373 0.93333333 0.9254902\n",
            "  0.90196078 0.89803922 0.90196078 0.89803922 0.90196078 0.90588235\n",
            "  0.93333333 0.94117647 1.         0.75294118 1.         0.9372549\n",
            "  0.89411765 1.         0.09019608 0.        ]\n",
            " [0.         0.         0.67843137 0.94901961 0.87843137 0.91372549\n",
            "  1.         0.         0.53333333 0.88627451 0.9372549  1.\n",
            "  0.89803922 0.9254902  0.9254902  0.91764706 0.91372549 0.89411765\n",
            "  0.98431373 0.97254902 0.78431373 0.31764706 1.         0.92941176\n",
            "  0.88235294 1.         0.39607843 0.        ]\n",
            " [0.         0.         0.6745098  1.         0.88627451 0.91372549\n",
            "  1.         0.         0.         0.         0.         0.\n",
            "  0.03137255 0.08235294 0.08627451 0.08235294 0.07843137 0.05490196\n",
            "  0.         0.         0.         0.         1.         0.93333333\n",
            "  0.89803922 0.96470588 0.69803922 0.        ]\n",
            " [0.         0.         0.0627451  1.         0.9254902  0.93333333\n",
            "  0.98823529 0.         0.         0.         0.         0.\n",
            "  0.         0.         0.         0.         0.         0.\n",
            "  0.         0.         0.         0.         0.87058824 0.95686275\n",
            "  0.87058824 0.99607843 0.46666667 0.        ]\n",
            " [0.         0.         0.         0.11764706 0.89411765 0.94901961\n",
            "  0.63921569 0.         0.         0.         0.         0.00784314\n",
            "  0.01568627 0.02352941 0.01960784 0.01960784 0.01568627 0.01568627\n",
            "  0.00784314 0.         0.00392157 0.         0.59215686 0.98431373\n",
            "  0.92156863 0.70588235 0.         0.        ]\n",
            " [0.         0.         0.         0.         0.91764706 1.\n",
            "  0.74901961 0.         0.04313725 0.         0.         0.\n",
            "  0.         0.         0.         0.         0.         0.\n",
            "  0.         0.         0.01568627 0.         0.40392157 0.96470588\n",
            "  0.96862745 0.28235294 0.         0.        ]\n",
            " [0.         0.         0.         0.00392157 0.37254902 0.30196078\n",
            "  0.20392157 0.         0.01568627 0.         0.         0.\n",
            "  0.         0.         0.         0.         0.         0.\n",
            "  0.         0.         0.01176471 0.         0.32156863 0.92941176\n",
            "  0.90588235 0.2745098  0.         0.        ]]\n"
          ],
          "name": "stdout"
        }
      ]
    },
    {
      "cell_type": "markdown",
      "metadata": {
        "id": "u-Px7OkJbGHU",
        "colab_type": "text"
      },
      "source": [
        "##**Create a Model**"
      ]
    },
    {
      "cell_type": "code",
      "metadata": {
        "id": "Ho8ddSvtasjJ",
        "colab_type": "code",
        "colab": {}
      },
      "source": [
        "#Size of image=28*28=784 --> Therefore we have 784 neurons in the input layer\n",
        "#Output Layer - Number between 0-9 -->10 neurons each representing each class"
      ],
      "execution_count": 0,
      "outputs": []
    },
    {
      "cell_type": "code",
      "metadata": {
        "id": "AFuA_Vpqb0Mq",
        "colab_type": "code",
        "colab": {}
      },
      "source": [
        "#Hidden Layer 1 - 128 neurons - Fully connected to the input layer"
      ],
      "execution_count": 0,
      "outputs": []
    },
    {
      "cell_type": "code",
      "metadata": {
        "id": "YVnCKwhJeQBN",
        "colab_type": "code",
        "colab": {
          "base_uri": "https://localhost:8080/",
          "height": 87
        },
        "outputId": "2d080c65-ce34-4275-d259-746c05d64f88"
      },
      "source": [
        "#Define the model\n",
        "model=keras.Sequential([\n",
        "  keras.layers.Flatten(input_shape=(28,28)),\n",
        "  keras.layers.Dense(128,activation=\"relu\"),\n",
        "  keras.layers.Dense(10,activation=\"softmax\")                        \n",
        "  ])\n",
        "\n",
        "#Softmax - Predicts values in a layer such that all of the values add up to 1\n",
        "#That is Probability of each class"
      ],
      "execution_count": 18,
      "outputs": [
        {
          "output_type": "stream",
          "text": [
            "WARNING:tensorflow:From /usr/local/lib/python3.6/dist-packages/tensorflow_core/python/ops/resource_variable_ops.py:1630: calling BaseResourceVariable.__init__ (from tensorflow.python.ops.resource_variable_ops) with constraint is deprecated and will be removed in a future version.\n",
            "Instructions for updating:\n",
            "If using Keras pass *_constraint arguments to layers.\n"
          ],
          "name": "stdout"
        }
      ]
    },
    {
      "cell_type": "code",
      "metadata": {
        "id": "INENLtDDe4gw",
        "colab_type": "code",
        "colab": {}
      },
      "source": [
        "model.compile(optimizer=\"adam\",loss=\"sparse_categorical_crossentropy\",metrics=[\"accuracy\"])"
      ],
      "execution_count": 0,
      "outputs": []
    },
    {
      "cell_type": "code",
      "metadata": {
        "id": "l1-YTkEMfGfk",
        "colab_type": "code",
        "colab": {
          "base_uri": "https://localhost:8080/",
          "height": 574
        },
        "outputId": "4a0de584-1eb0-4fcb-a285-5c5f02b09e2a"
      },
      "source": [
        "model.fit(train_images,train_labels,epochs=15)"
      ],
      "execution_count": 23,
      "outputs": [
        {
          "output_type": "stream",
          "text": [
            "Train on 60000 samples\n",
            "Epoch 1/15\n",
            "60000/60000 [==============================] - 4s 69us/sample - loss: 0.2825 - acc: 0.8950\n",
            "Epoch 2/15\n",
            "60000/60000 [==============================] - 4s 68us/sample - loss: 0.2694 - acc: 0.8993\n",
            "Epoch 3/15\n",
            "60000/60000 [==============================] - 4s 68us/sample - loss: 0.2592 - acc: 0.9040\n",
            "Epoch 4/15\n",
            "60000/60000 [==============================] - 4s 68us/sample - loss: 0.2470 - acc: 0.9083\n",
            "Epoch 5/15\n",
            "60000/60000 [==============================] - 4s 69us/sample - loss: 0.2393 - acc: 0.9103\n",
            "Epoch 6/15\n",
            "60000/60000 [==============================] - 4s 68us/sample - loss: 0.2310 - acc: 0.9131\n",
            "Epoch 7/15\n",
            "60000/60000 [==============================] - 4s 68us/sample - loss: 0.2244 - acc: 0.9158\n",
            "Epoch 8/15\n",
            "60000/60000 [==============================] - 4s 71us/sample - loss: 0.2167 - acc: 0.9180\n",
            "Epoch 9/15\n",
            "60000/60000 [==============================] - 4s 67us/sample - loss: 0.2102 - acc: 0.9216\n",
            "Epoch 10/15\n",
            "60000/60000 [==============================] - 4s 72us/sample - loss: 0.2048 - acc: 0.9229\n",
            "Epoch 11/15\n",
            "60000/60000 [==============================] - 4s 69us/sample - loss: 0.1995 - acc: 0.9254\n",
            "Epoch 12/15\n",
            "60000/60000 [==============================] - 4s 73us/sample - loss: 0.1938 - acc: 0.9270\n",
            "Epoch 13/15\n",
            "60000/60000 [==============================] - 4s 69us/sample - loss: 0.1880 - acc: 0.9285\n",
            "Epoch 14/15\n",
            "60000/60000 [==============================] - 4s 70us/sample - loss: 0.1834 - acc: 0.9313\n",
            "Epoch 15/15\n",
            "60000/60000 [==============================] - 4s 70us/sample - loss: 0.1778 - acc: 0.9334\n"
          ],
          "name": "stdout"
        },
        {
          "output_type": "execute_result",
          "data": {
            "text/plain": [
              "<tensorflow.python.keras.callbacks.History at 0x7fbd54dc4828>"
            ]
          },
          "metadata": {
            "tags": []
          },
          "execution_count": 23
        }
      ]
    },
    {
      "cell_type": "code",
      "metadata": {
        "id": "0GvXizOtfTFU",
        "colab_type": "code",
        "colab": {
          "base_uri": "https://localhost:8080/",
          "height": 54
        },
        "outputId": "1d0347ee-4862-460c-9e20-ed035520063e"
      },
      "source": [
        "test_loss,test_acc=model.evaluate(test_images,test_labels)"
      ],
      "execution_count": 24,
      "outputs": [
        {
          "output_type": "stream",
          "text": [
            "10000/10000 [==============================] - 0s 33us/sample - loss: 0.3370 - acc: 0.8887\n"
          ],
          "name": "stdout"
        }
      ]
    },
    {
      "cell_type": "code",
      "metadata": {
        "id": "jqMtm7fcfrrZ",
        "colab_type": "code",
        "colab": {
          "base_uri": "https://localhost:8080/",
          "height": 54
        },
        "outputId": "a7e991ea-c1c6-4eac-aabc-15ddbe4ea0c1"
      },
      "source": [
        "train_loss,train_acc=model.evaluate(train_images,train_labels)"
      ],
      "execution_count": 25,
      "outputs": [
        {
          "output_type": "stream",
          "text": [
            "60000/60000 [==============================] - 2s 31us/sample - loss: 0.1531 - acc: 0.9441\n"
          ],
          "name": "stdout"
        }
      ]
    },
    {
      "cell_type": "code",
      "metadata": {
        "id": "QjIyxMndfxLD",
        "colab_type": "code",
        "colab": {
          "base_uri": "https://localhost:8080/",
          "height": 235
        },
        "outputId": "f7a1a78d-4682-4c5c-f3a5-728dcdaac66a"
      },
      "source": [
        "prediction=model.predict(test_images)\n",
        "prediction"
      ],
      "execution_count": 26,
      "outputs": [
        {
          "output_type": "execute_result",
          "data": {
            "text/plain": [
              "array([[9.65740377e-10, 8.10456129e-12, 2.78302648e-09, ...,\n",
              "        7.86027778e-03, 2.54753246e-10, 9.92137611e-01],\n",
              "       [8.87640854e-05, 5.21440421e-13, 9.99823868e-01, ...,\n",
              "        8.43202108e-17, 2.51060934e-12, 6.89412523e-18],\n",
              "       [1.43449641e-10, 1.00000000e+00, 1.06454274e-16, ...,\n",
              "        1.85186561e-27, 3.79412762e-22, 3.03726209e-26],\n",
              "       ...,\n",
              "       [1.63101149e-07, 3.41861042e-17, 2.10267831e-06, ...,\n",
              "        1.57092481e-11, 9.99990821e-01, 1.10154519e-20],\n",
              "       [1.34341800e-12, 9.99999881e-01, 6.22007600e-14, ...,\n",
              "        1.23165182e-20, 1.51236459e-13, 2.43660568e-15],\n",
              "       [3.04310355e-08, 1.48815238e-10, 8.88575671e-11, ...,\n",
              "        4.42284727e-05, 1.89019360e-07, 2.36728215e-09]], dtype=float32)"
            ]
          },
          "metadata": {
            "tags": []
          },
          "execution_count": 26
        }
      ]
    },
    {
      "cell_type": "code",
      "metadata": {
        "id": "-3eJXKHog9hd",
        "colab_type": "code",
        "colab": {
          "base_uri": "https://localhost:8080/",
          "height": 50
        },
        "outputId": "3ca6a9b7-9f8a-49ad-8b1b-a687ca96f8c1"
      },
      "source": [
        "print(prediction[7])"
      ],
      "execution_count": 29,
      "outputs": [
        {
          "output_type": "stream",
          "text": [
            "[8.9723869e-08 1.9791927e-11 1.3586543e-04 9.0145556e-07 2.0511430e-03\n",
            " 6.7740947e-12 9.9781191e-01 1.1589656e-13 9.8431416e-11 4.7916591e-11]\n"
          ],
          "name": "stdout"
        }
      ]
    },
    {
      "cell_type": "code",
      "metadata": {
        "id": "Gqgd3vBthnsG",
        "colab_type": "code",
        "colab": {
          "base_uri": "https://localhost:8080/",
          "height": 1000
        },
        "outputId": "fa617353-26b8-492a-c51d-a7f4a2fba861"
      },
      "source": [
        "for i in range(5):\n",
        "  plt.grid(False)\n",
        "  plt.imshow(test_images[i],cmap=plt.cm.binary)\n",
        "  plt.xlabel(\"Actual: \"+class_names[test_labels[i]])\n",
        "  plt.title(\"Predicted: \"+class_names[np.argmax(prediction[i])])\n",
        "  plt.show()"
      ],
      "execution_count": 36,
      "outputs": [
        {
          "output_type": "display_data",
          "data": {
            "image/png": "[encoded data removed]",
            "text/plain": [
              "<Figure size 432x288 with 1 Axes>"
            ]
          },
          "metadata": {
            "tags": []
          }
        },
        {
          "output_type": "display_data",
          "data": {
            "image/png": "[encoded data removed]",
            "text/plain": [
              "<Figure size 432x288 with 1 Axes>"
            ]
          },
          "metadata": {
            "tags": []
          }
        },
        {
          "output_type": "display_data",
          "data": {
            "image/png": "[encoded data removed]",
            "text/plain": [
              "<Figure size 432x288 with 1 Axes>"
            ]
          },
          "metadata": {
            "tags": []
          }
        },
        {
          "output_type": "display_data",
          "data": {
            "image/png": "[encoded data removed]",
            "text/plain": [
              "<Figure size 432x288 with 1 Axes>"
            ]
          },
          "metadata": {
            "tags": []
          }
        },
        {
          "output_type": "display_data",
          "data": {
            "image/png": "[encoded data removed]",
            "text/plain": [
              "<Figure size 432x288 with 1 Axes>"
            ]
          },
          "metadata": {
            "tags": []
          }
        }
      ]
    }
  ]
}